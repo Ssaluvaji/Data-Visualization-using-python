{
 "cells": [
  {
   "cell_type": "code",
   "execution_count": 1,
   "id": "8e350737",
   "metadata": {},
   "outputs": [],
   "source": [
    "import numpy as np\n",
    "import matplotlib as mpl\n",
    "import matplotlib.pyplot as plt\n",
    "import pandas as pd\n",
    "%matplotlib inline\n",
    "import seaborn as sns\n"
   ]
  },
  {
   "cell_type": "code",
   "execution_count": 2,
   "id": "7d3cde2e",
   "metadata": {},
   "outputs": [],
   "source": [
    "from numpy.random import randn , randint , uniform , sample"
   ]
  },
  {
   "cell_type": "code",
   "execution_count": 3,
   "id": "3ab7dd13",
   "metadata": {},
   "outputs": [
    {
     "data": {
      "text/html": [
       "<div>\n",
       "<style scoped>\n",
       "    .dataframe tbody tr th:only-of-type {\n",
       "        vertical-align: middle;\n",
       "    }\n",
       "\n",
       "    .dataframe tbody tr th {\n",
       "        vertical-align: top;\n",
       "    }\n",
       "\n",
       "    .dataframe thead th {\n",
       "        text-align: right;\n",
       "    }\n",
       "</style>\n",
       "<table border=\"1\" class=\"dataframe\">\n",
       "  <thead>\n",
       "    <tr style=\"text-align: right;\">\n",
       "      <th></th>\n",
       "      <th>a</th>\n",
       "      <th>b</th>\n",
       "      <th>c</th>\n",
       "      <th>d</th>\n",
       "    </tr>\n",
       "  </thead>\n",
       "  <tbody>\n",
       "    <tr>\n",
       "      <th>0</th>\n",
       "      <td>1.157955</td>\n",
       "      <td>1.304882</td>\n",
       "      <td>0.990655</td>\n",
       "      <td>-0.538711</td>\n",
       "    </tr>\n",
       "    <tr>\n",
       "      <th>1</th>\n",
       "      <td>-1.459728</td>\n",
       "      <td>0.762882</td>\n",
       "      <td>-1.833154</td>\n",
       "      <td>-1.521524</td>\n",
       "    </tr>\n",
       "    <tr>\n",
       "      <th>2</th>\n",
       "      <td>1.752338</td>\n",
       "      <td>-0.244985</td>\n",
       "      <td>0.109767</td>\n",
       "      <td>0.527475</td>\n",
       "    </tr>\n",
       "    <tr>\n",
       "      <th>3</th>\n",
       "      <td>1.158125</td>\n",
       "      <td>-1.052323</td>\n",
       "      <td>0.161103</td>\n",
       "      <td>0.629648</td>\n",
       "    </tr>\n",
       "    <tr>\n",
       "      <th>4</th>\n",
       "      <td>-0.728086</td>\n",
       "      <td>-1.421239</td>\n",
       "      <td>1.129562</td>\n",
       "      <td>-1.394414</td>\n",
       "    </tr>\n",
       "    <tr>\n",
       "      <th>5</th>\n",
       "      <td>0.688462</td>\n",
       "      <td>-0.697221</td>\n",
       "      <td>-0.144586</td>\n",
       "      <td>0.023012</td>\n",
       "    </tr>\n",
       "    <tr>\n",
       "      <th>6</th>\n",
       "      <td>-0.448685</td>\n",
       "      <td>-1.430448</td>\n",
       "      <td>-0.239460</td>\n",
       "      <td>2.217446</td>\n",
       "    </tr>\n",
       "    <tr>\n",
       "      <th>7</th>\n",
       "      <td>-0.202766</td>\n",
       "      <td>-0.449198</td>\n",
       "      <td>-0.922725</td>\n",
       "      <td>0.151354</td>\n",
       "    </tr>\n",
       "    <tr>\n",
       "      <th>8</th>\n",
       "      <td>0.287174</td>\n",
       "      <td>1.761485</td>\n",
       "      <td>-1.152548</td>\n",
       "      <td>-0.713349</td>\n",
       "    </tr>\n",
       "    <tr>\n",
       "      <th>9</th>\n",
       "      <td>0.122020</td>\n",
       "      <td>-0.049842</td>\n",
       "      <td>0.815232</td>\n",
       "      <td>-1.060251</td>\n",
       "    </tr>\n",
       "  </tbody>\n",
       "</table>\n",
       "</div>"
      ],
      "text/plain": [
       "          a         b         c         d\n",
       "0  1.157955  1.304882  0.990655 -0.538711\n",
       "1 -1.459728  0.762882 -1.833154 -1.521524\n",
       "2  1.752338 -0.244985  0.109767  0.527475\n",
       "3  1.158125 -1.052323  0.161103  0.629648\n",
       "4 -0.728086 -1.421239  1.129562 -1.394414\n",
       "5  0.688462 -0.697221 -0.144586  0.023012\n",
       "6 -0.448685 -1.430448 -0.239460  2.217446\n",
       "7 -0.202766 -0.449198 -0.922725  0.151354\n",
       "8  0.287174  1.761485 -1.152548 -0.713349\n",
       "9  0.122020 -0.049842  0.815232 -1.060251"
      ]
     },
     "execution_count": 3,
     "metadata": {},
     "output_type": "execute_result"
    }
   ],
   "source": [
    "df=pd.DataFrame(randn(10,4), columns=['a','b','c','d'])\n",
    "df"
   ]
  },
  {
   "cell_type": "code",
   "execution_count": 4,
   "id": "f6b152d7",
   "metadata": {},
   "outputs": [
    {
     "data": {
      "text/plain": [
       "Text(0.5, 1.0, 'bar plot')"
      ]
     },
     "execution_count": 4,
     "metadata": {},
     "output_type": "execute_result"
    },
    {
     "data": {
      "image/png": "[encoded data removed]",
      "text/plain": [
       "<Figure size 720x720 with 1 Axes>"
      ]
     },
     "metadata": {
      "needs_background": "light"
     },
     "output_type": "display_data"
    }
   ],
   "source": [
    "df.plot(kind='bar',figsize=(10,10))\n",
    "plt.title(\"bar plot\")"
   ]
  },
  {
   "cell_type": "code",
   "execution_count": null,
   "id": "d967acba",
   "metadata": {},
   "outputs": [],
   "source": []
  }
 ],
 "metadata": {
  "kernelspec": {
   "display_name": "Python 3",
   "language": "python",
   "name": "python3"
  },
  "language_info": {
   "codemirror_mode": {
    "name": "ipython",
    "version": 3
   },
   "file_extension": ".py",
   "mimetype": "text/x-python",
   "name": "python",
   "nbconvert_exporter": "python",
   "pygments_lexer": "ipython3",
   "version": "3.8.8"
  }
 },
 "nbformat": 4,
 "nbformat_minor": 5
}
